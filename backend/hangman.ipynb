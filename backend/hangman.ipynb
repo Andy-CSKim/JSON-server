{
 "cells": [
  {
   "cell_type": "code",
   "execution_count": 1,
   "metadata": {},
   "outputs": [
    {
     "name": "stdout",
     "output_type": "stream",
     "text": [
      "None\n"
     ]
    },
    {
     "ename": "TypeError",
     "evalue": "hangman() takes 0 positional arguments but 1 was given",
     "output_type": "error",
     "traceback": [
      "\u001b[1;31m---------------------------------------------------------------------------\u001b[0m",
      "\u001b[1;31mTypeError\u001b[0m                                 Traceback (most recent call last)",
      "Cell \u001b[1;32mIn[1], line 16\u001b[0m\n\u001b[0;32m     13\u001b[0m res \u001b[38;5;241m=\u001b[39m start_hangman()\n\u001b[0;32m     14\u001b[0m \u001b[38;5;28mprint\u001b[39m(res)  \u001b[38;5;66;03m# prints \"_ _ _ _ _ _ _\"\u001b[39;00m\n\u001b[1;32m---> 16\u001b[0m res \u001b[38;5;241m=\u001b[39m \u001b[43mhangman\u001b[49m\u001b[43m(\u001b[49m\u001b[38;5;124;43m'\u001b[39;49m\u001b[38;5;124;43ma\u001b[39;49m\u001b[38;5;124;43m'\u001b[39;49m\u001b[43m)\u001b[49m\n\u001b[0;32m     17\u001b[0m \u001b[38;5;28mprint\u001b[39m(res)  \u001b[38;5;66;03m# prints \"_ a _ a _ a _\"\u001b[39;00m\n",
      "\u001b[1;31mTypeError\u001b[0m: hangman() takes 0 positional arguments but 1 was given"
     ]
    }
   ],
   "source": [
    "# Hangman game\n",
    "\n",
    "words = ['python', 'java', 'kotlin', 'javascript']\n",
    "\n",
    "# choose a random word from a list of words\n",
    "def start_hangman():\n",
    "    pass\n",
    "\n",
    "def hangman(ch):\n",
    "    pass\n",
    "\n",
    "\n",
    "res = start_hangman()\n",
    "print(res)  # prints \"_ _ _ _ _ _ _\"\n",
    "\n",
    "res = hangman('a')\n",
    "print(res)  # prints \"_ a _ a _ a _\""
   ]
  }
 ],
 "metadata": {
  "kernelspec": {
   "display_name": "Python 3",
   "language": "python",
   "name": "python3"
  },
  "language_info": {
   "codemirror_mode": {
    "name": "ipython",
    "version": 3
   },
   "file_extension": ".py",
   "mimetype": "text/x-python",
   "name": "python",
   "nbconvert_exporter": "python",
   "pygments_lexer": "ipython3",
   "version": "3.10.11"
  }
 },
 "nbformat": 4,
 "nbformat_minor": 2
}
