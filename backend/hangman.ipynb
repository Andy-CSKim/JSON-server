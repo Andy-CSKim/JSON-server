{
 "cells": [
  {
   "cell_type": "code",
   "execution_count": 9,
   "metadata": {},
   "outputs": [
    {
     "name": "stdout",
     "output_type": "stream",
     "text": [
      "1\n"
     ]
    }
   ],
   "source": [
    "import random\n",
    "\n",
    "# random number between 1 and 5\n",
    "res = random.randint(1, 5)\n",
    "print(res)"
   ]
  },
  {
   "cell_type": "code",
   "execution_count": 3,
   "metadata": {},
   "outputs": [
    {
     "name": "stdout",
     "output_type": "stream",
     "text": [
      "None\n",
      "None\n"
     ]
    }
   ],
   "source": [
    "# Hangman game\n",
    "\n",
    "words = ['python', 'java', 'kotlin', 'javascript']\n",
    "answer = None\n",
    "\n",
    "# choose a random word from a list of words\n",
    "def start_hangman():\n",
    "    # choose a random word from a list of words and assign it to answer\n",
    "    pass\n",
    "\n",
    "def hangman(ch):\n",
    "    pass\n",
    "\n",
    "\n",
    "res = start_hangman()\n",
    "print(res)  # prints \"_ _ _ _ _ _ _\"\n",
    "\n",
    "res = hangman('a')\n",
    "print(res)  # prints \"_ a _ a _ a _\""
   ]
  },
  {
   "cell_type": "code",
   "execution_count": null,
   "metadata": {},
   "outputs": [],
   "source": [
    "\n",
    "\n"
   ]
  }
 ],
 "metadata": {
  "kernelspec": {
   "display_name": "Python 3",
   "language": "python",
   "name": "python3"
  },
  "language_info": {
   "codemirror_mode": {
    "name": "ipython",
    "version": 3
   },
   "file_extension": ".py",
   "mimetype": "text/x-python",
   "name": "python",
   "nbconvert_exporter": "python",
   "pygments_lexer": "ipython3",
   "version": "3.10.11"
  }
 },
 "nbformat": 4,
 "nbformat_minor": 2
}
