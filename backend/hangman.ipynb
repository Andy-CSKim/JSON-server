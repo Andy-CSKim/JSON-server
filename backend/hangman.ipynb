{
 "cells": [
  {
   "cell_type": "code",
   "execution_count": null,
   "metadata": {},
   "outputs": [
    {
     "name": "stdout",
     "output_type": "stream",
     "text": [
      "5\n"
     ]
    }
   ],
   "source": [
    "import random\n",
    "\n",
    "# random number between 1 and 5\n",
    "res = random.randint(1, 5)\n",
    "print(res)"
   ]
  },
  {
   "cell_type": "code",
   "execution_count": null,
   "metadata": {},
   "outputs": [
    {
     "name": "stdout",
     "output_type": "stream",
     "text": [
      "java\n",
      "javascript\n"
     ]
    }
   ],
   "source": [
    "words = ['python', 'java', 'kotlin', 'javascript']\n",
    "\n",
    "print(words[1])\n",
    "print(words[3])\n"
   ]
  },
  {
   "cell_type": "code",
   "execution_count": 3,
   "metadata": {},
   "outputs": [
    {
     "name": "stdout",
     "output_type": "stream",
     "text": [
      "a\n"
     ]
    }
   ],
   "source": [
    "ch = input()\n",
    "\n",
    "print(ch)"
   ]
  },
  {
   "cell_type": "code",
   "execution_count": null,
   "metadata": {},
   "outputs": [],
   "source": [
    "print(\"H A N G M A N\")\n",
    "\n",
    "while True:\n",
    "\n",
    "    print(\"Guess the word: \")\n",
    "    word = input()\n",
    "    if word == 'quit':\n",
    "        print(\"You survived!\")\n",
    "        break\n",
    "    else:\n",
    "        print(\"You are hanged!\")\n",
    "        break"
   ]
  },
  {
   "cell_type": "code",
   "execution_count": 8,
   "metadata": {},
   "outputs": [
    {
     "name": "stdout",
     "output_type": "stream",
     "text": [
      "['a', 'p', 'p', 'l', 'e']\n",
      "['_', '_', '_', '_', '_']\n",
      "A _ _ _ _\n"
     ]
    }
   ],
   "source": [
    "txt = \"apple\"\n",
    "\n",
    "#txt[0] = 'A' # error \n",
    "\n",
    "arr = list(txt)\n",
    "print(arr)\n",
    "\n",
    "answer = ['_'] * len(txt)   \n",
    "print(answer)\n",
    "\n",
    "answer[0] = 'A'\n",
    "\n",
    "res = ' '.join(answer)\n",
    "print(res)"
   ]
  },
  {
   "cell_type": "code",
   "execution_count": 9,
   "metadata": {},
   "outputs": [
    {
     "name": "stdout",
     "output_type": "stream",
     "text": [
      "_ _ _ _ _ _\n",
      "k _ _ _ _ _\n",
      "k o _ _ _ _\n",
      "k o t _ _ _\n",
      "k o t l _ _\n",
      "k o t l _ n\n",
      "k o t l i n\n",
      "Congratulations!\n"
     ]
    }
   ],
   "source": [
    "# Hangman game\n",
    "import random \n",
    "\n",
    "words = ['python', 'java', 'kotlin', 'javascript']\n",
    "CHOSENWORD = None\n",
    "wrongCount = 0\n",
    "answer = None\n",
    "ANSWER = None\n",
    "\n",
    "def start_hangman():\n",
    "    global CHOSENWORD\n",
    "    global ANSWER\n",
    "    global answer\n",
    "\n",
    "    CHOSENWORD = list(words[random.randint(0, len(words)-1)])\n",
    "    answer = \"_\" * (len(\"\".join(CHOSENWORD))) \n",
    "    ANSWER = list(answer)\n",
    "    return ' '.join(ANSWER)\n",
    "\n",
    "\n",
    "def hangman(guess):\n",
    "    global CHOSENWORD\n",
    "    global answer \n",
    "    global ANSWER\n",
    "    global wrongCount\n",
    "\n",
    "    count = 0\n",
    "    right = 0\n",
    "    while count < len(CHOSENWORD):\n",
    "        if guess == CHOSENWORD[count]:\n",
    "            ANSWER[count] = guess \n",
    "            right += 1\n",
    "        count += 1\n",
    "    if right == 0:\n",
    "        wrongCount += 1\n",
    "        print (str(wrongCount) + \" wrong guesses!\")\n",
    "\n",
    "    answer = ' '.join(ANSWER)\n",
    "\n",
    "    return answer\n",
    "\n",
    "res = start_hangman()\n",
    "print(res)\n",
    "\n",
    "while True:\n",
    "    ch = input()\n",
    "    if ch != \"\":\n",
    "        print(hangman(ch))\n",
    "    if wrongCount > 6:\n",
    "        print(\"You are hanged!\")\n",
    "        break\n",
    "    if ANSWER == CHOSENWORD:\n",
    "        print (\"Congratulations!\")\n",
    "        break"
   ]
  },
  {
   "cell_type": "code",
   "execution_count": null,
   "metadata": {},
   "outputs": [],
   "source": []
  }
 ],
 "metadata": {
  "kernelspec": {
   "display_name": "Python 3",
   "language": "python",
   "name": "python3"
  },
  "language_info": {
   "codemirror_mode": {
    "name": "ipython",
    "version": 3
   },
   "file_extension": ".py",
   "mimetype": "text/x-python",
   "name": "python",
   "nbconvert_exporter": "python",
   "pygments_lexer": "ipython3",
   "version": "3.10.11"
  }
 },
 "nbformat": 4,
 "nbformat_minor": 2
}
