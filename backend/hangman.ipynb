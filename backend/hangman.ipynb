{
 "cells": [
  {
   "cell_type": "code",
   "execution_count": null,
   "metadata": {},
   "outputs": [
    {
     "name": "stdout",
     "output_type": "stream",
     "text": [
      "5\n"
     ]
    }
   ],
   "source": [
    "import random\n",
    "\n",
    "# random number between 1 and 5\n",
    "res = random.randint(1, 5)\n",
    "print(res)"
   ]
  },
  {
   "cell_type": "code",
   "execution_count": null,
   "metadata": {},
   "outputs": [
    {
     "name": "stdout",
     "output_type": "stream",
     "text": [
      "java\n",
      "javascript\n"
     ]
    }
   ],
   "source": [
    "words = ['python', 'java', 'kotlin', 'javascript']\n",
    "\n",
    "print(words[1])\n",
    "print(words[3])\n"
   ]
  },
  {
   "cell_type": "code",
   "execution_count": 41,
   "metadata": {},
   "outputs": [
    {
     "name": "stdout",
     "output_type": "stream",
     "text": [
      "_ _ _ _ _ _ _ _ _ _\n",
      "None\n"
     ]
    }
   ],
   "source": [
    "# Hangman game\n",
    "import random \n",
    "\n",
    "words = ['python', 'java', 'kotlin', 'javascript']\n",
    "chosenWord = None\n",
    "answer = None\n",
    "\n",
    "def printText(hangmanWord):\n",
    "    txt = \"_ \" * (len(hangmanWord)-1) + \"_\"\n",
    "    return (txt)\n",
    "\n",
    "# choose a random word from a list of words\n",
    "def start_hangman():\n",
    "    global chosenWord\n",
    "    # choose a random word from a list of words and assign it to answer\n",
    "    chosenWord = words[random.randint(0, len(words)-1)]\n",
    "    # words[x] --> answer\n",
    "    return (chosenWord)\n",
    "\n",
    "def hangman(ch):\n",
    "    pass\n",
    "\n",
    "res = start_hangman()\n",
    "print(printText(chosenWord))  # prints \"_ _ _ _ _ _ _\"\n",
    "\n",
    "res = hangman('a')\n",
    "print(res)  # prints \"_ a _ a _ a _\""
   ]
  }
 ],
 "metadata": {
  "kernelspec": {
   "display_name": "Python 3",
   "language": "python",
   "name": "python3"
  },
  "language_info": {
   "codemirror_mode": {
    "name": "ipython",
    "version": 3
   },
   "file_extension": ".py",
   "mimetype": "text/x-python",
   "name": "python",
   "nbconvert_exporter": "python",
   "pygments_lexer": "ipython3",
   "version": "3.10.8"
  }
 },
 "nbformat": 4,
 "nbformat_minor": 2
}
