{
 "cells": [
  {
   "cell_type": "code",
   "execution_count": null,
   "metadata": {},
   "outputs": [],
   "source": [
    "# Hangman game\n",
    "\n",
    "words = ['python', 'java', 'kotlin', 'javascript']\n",
    "\n",
    "# choose a random word from a list of words\n",
    "def start_hangman():\n",
    "    pass\n",
    "\n",
    "def hangman():\n",
    "    pass\n",
    "\n",
    "\n",
    "res = start_hangman()\n",
    "print(res)  # prints \"_ _ _ _ _ _ _\"\n",
    "\n",
    "res = hangman('a')\n",
    "print(res)  # prints \"_ a _ a _ a _\""
   ]
  }
 ],
 "metadata": {
  "language_info": {
   "name": "python"
  }
 },
 "nbformat": 4,
 "nbformat_minor": 2
}
